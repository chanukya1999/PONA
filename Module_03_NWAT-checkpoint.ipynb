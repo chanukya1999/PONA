{
 "cells": [
  {
   "cell_type": "markdown",
   "metadata": {},
   "source": [
    "# Module 3: Prediction of R2L attacks"
   ]
  },
  {
   "cell_type": "code",
   "execution_count": 1,
   "metadata": {},
   "outputs": [],
   "source": [
    "import pandas as p"
   ]
  },
  {
   "cell_type": "code",
   "execution_count": 2,
   "metadata": {},
   "outputs": [],
   "source": [
    "# feature names\n",
    "features = [\"duration\", \"protocol_type\", \"service\", \"flag\", \"src_bytes\", \"dst_bytes\", \"land\", \"Wrong_fragment\", \"Urgent\", \"hot\", \"num_failed_login\", \"logged_in\", \"num_compromised\", \"root_shell\", \"su_attempted\", \"num_root\", \"num_file_creations\", \"num_shells\", \"num_access_files\", \"num_outbound_cmds\", \"is_host_login\", \"is_guest_login\", \"count\", \"srv_count\", \"serror_rate\", \"srv_serror_rate\", \"rerror_rate\", \"srv_rerror_rate\", \"same_srv_rate\", \"diff_srv_rate\", \"srv_diff_host_rate\", \"dst_host_count\", \"dst_host_srv_count\", \"dst_host_same_srv_rate\", \"dst_host_diff_ srv_rate\", \"dst_host_same_src_port_rate\", \"dst_host_srv_diff_host _rate\", \"dst_host_serror_rate\", \"dst_host_srv_serror_rate\", \"dst_host_rerror_rate\", \"dst_host_srv_rerror_rate\",\"class\"] \n",
    "data = p.read_csv(\"data1.csv\", names = features)"
   ]
  },
  {
   "cell_type": "code",
   "execution_count": 3,
   "metadata": {},
   "outputs": [],
   "source": [
    "df=data.dropna()"
   ]
  },
  {
   "cell_type": "code",
   "execution_count": 4,
   "metadata": {},
   "outputs": [],
   "source": [
    "df['R2L'] = df[\"class\"].map({'normal.':0, 'snmpgetattack.':1, 'named.':1, 'xlock.':1, 'smurf.':0,\n",
    "       'ipsweep.':0, 'multihop.':1, 'xsnoop.':1, 'sendmail.':1, 'guess_passwd.':1,\n",
    "       'saint.':0, 'buffer_overflow.':0, 'portsweep.':0, 'pod.':0, 'apache2.':0,\n",
    "       'phf.':1, 'udpstorm.':0, 'warezmaster.':1, 'perl.':0, 'satan.':0, 'xterm.':0,\n",
    "       'mscan.':0, 'processtable.':0, 'ps.':0, 'nmap.':0, 'rootkit.':0, 'neptune.':0,\n",
    "       'loadmodule.':0, 'imap.':1, 'back.':0, 'httptunnel.':1, 'worm.':1,\n",
    "       'mailbomb.':0, 'ftp_write.':1, 'teardrop.':0, 'land.':0, 'sqlattack.':0,\n",
    "       'snmpguess.':1})"
   ]
  },
  {
   "cell_type": "code",
   "execution_count": 5,
   "metadata": {},
   "outputs": [],
   "source": [
    "from sklearn.preprocessing import LabelEncoder\n",
    "var_mod = ['duration', 'protocol_type', 'service', 'flag', 'src_bytes',\n",
    "       'dst_bytes', 'land', 'Wrong_fragment', 'Urgent', 'hot',\n",
    "       'num_failed_login', 'logged_in', 'num_compromised', 'root_shell',\n",
    "       'su_attempted', 'num_root', 'num_file_creations', 'num_shells',\n",
    "       'num_access_files', 'num_outbound_cmds', 'is_host_login',\n",
    "       'is_guest_login', 'count', 'srv_count', 'serror_rate',\n",
    "       'srv_serror_rate', 'rerror_rate', 'srv_rerror_rate', 'same_srv_rate',\n",
    "       'diff_srv_rate', 'srv_diff_host_rate', 'dst_host_count',\n",
    "       'dst_host_srv_count', 'dst_host_same_srv_rate',\n",
    "       'dst_host_diff_ srv_rate', 'dst_host_same_src_port_rate',\n",
    "       'dst_host_srv_diff_host _rate', 'dst_host_serror_rate',\n",
    "       'dst_host_srv_serror_rate', 'dst_host_rerror_rate'\n",
    "       ]\n",
    "le = LabelEncoder()\n",
    "for i in var_mod:\n",
    "    df[i] = le.fit_transform(df[i]).astype(str)\n"
   ]
  },
  {
   "cell_type": "code",
   "execution_count": 6,
   "metadata": {},
   "outputs": [],
   "source": [
    "del df['dst_host_srv_rerror_rate']\n",
    "del df[\"class\"]"
   ]
  },
  {
   "cell_type": "code",
   "execution_count": 7,
   "metadata": {},
   "outputs": [],
   "source": [
    "#According to the cross-validated MCC scores, the random forest is the best-performing model, so now let's evaluate its performance on the test set.\n",
    "from sklearn.metrics import confusion_matrix, classification_report, matthews_corrcoef, cohen_kappa_score, accuracy_score, average_precision_score, roc_auc_score"
   ]
  },
  {
   "cell_type": "code",
   "execution_count": 8,
   "metadata": {},
   "outputs": [],
   "source": [
    "X = df.drop(labels='R2L', axis=1)\n",
    "#Response variable\n",
    "y = df.loc[:,'R2L']    "
   ]
  },
  {
   "cell_type": "code",
   "execution_count": 9,
   "metadata": {},
   "outputs": [],
   "source": [
    " #We'll use a test size of 30%. We also stratify the split on the response variable, which is very important to do because there are so few fraudulent transactions.\n",
    "from sklearn.model_selection import train_test_split\n",
    "X_train, X_test, y_train, y_test = train_test_split(X, y, test_size=0.3, random_state=1, stratify=y)"
   ]
  },
  {
   "cell_type": "code",
   "execution_count": 10,
   "metadata": {},
   "outputs": [],
   "source": [
    "# Prevent view warnings\n",
    "X_train.is_copy = False\n",
    "X_test.is_copy = False"
   ]
  },
  {
   "cell_type": "code",
   "execution_count": 11,
   "metadata": {},
   "outputs": [],
   "source": [
    "#According to the cross-validated MCC scores, the random forest is the best-performing model, so now let's evaluate its performance on the test set.\n",
    "from sklearn.metrics import confusion_matrix, classification_report, matthews_corrcoef, cohen_kappa_score, accuracy_score, average_precision_score, roc_auc_score"
   ]
  },
  {
   "cell_type": "markdown",
   "metadata": {},
   "source": [
    "Logistic Regression :"
   ]
  },
  {
   "cell_type": "code",
   "execution_count": 12,
   "metadata": {},
   "outputs": [
    {
     "name": "stdout",
     "output_type": "stream",
     "text": [
      "\n",
      "Classification report of Logistic Regression Results:\n",
      "\n",
      "              precision    recall  f1-score   support\n",
      "\n",
      "           0       0.99      0.99      0.99     14670\n",
      "           1       0.70      0.68      0.69       330\n",
      "\n",
      "    accuracy                           0.99     15000\n",
      "   macro avg       0.84      0.83      0.84     15000\n",
      "weighted avg       0.99      0.99      0.99     15000\n",
      "\n",
      "Accuracy result of Logistic Regression is: 98.64\n",
      "\n",
      "Confusion Matrix result of Logistic Regression is:\n",
      " [[14573    97]\n",
      " [  107   223]]\n",
      "\n",
      "Sensitivity :  0.9933878663940013\n",
      "\n",
      "Specificity :  0.6757575757575758\n",
      "\n"
     ]
    },
    {
     "name": "stderr",
     "output_type": "stream",
     "text": [
      "C:\\Users\\gupth\\anaconda3\\lib\\site-packages\\sklearn\\linear_model\\_logistic.py:762: ConvergenceWarning: lbfgs failed to converge (status=1):\n",
      "STOP: TOTAL NO. of ITERATIONS REACHED LIMIT.\n",
      "\n",
      "Increase the number of iterations (max_iter) or scale the data as shown in:\n",
      "    https://scikit-learn.org/stable/modules/preprocessing.html\n",
      "Please also refer to the documentation for alternative solver options:\n",
      "    https://scikit-learn.org/stable/modules/linear_model.html#logistic-regression\n",
      "  n_iter_i = _check_optimize_result(\n"
     ]
    }
   ],
   "source": [
    "from sklearn.linear_model import LogisticRegression\n",
    "logR= LogisticRegression()\n",
    "\n",
    "logR.fit(X_train,y_train)\n",
    "\n",
    "predictR = logR.predict(X_test)\n",
    "\n",
    "print(\"\")\n",
    "print('Classification report of Logistic Regression Results:')\n",
    "print(\"\")\n",
    "\n",
    "print(classification_report(y_test,predictR))\n",
    "x = (accuracy_score(y_test,predictR)*100)\n",
    "\n",
    "print('Accuracy result of Logistic Regression is:', x)\n",
    "print(\"\")\n",
    "cm1=confusion_matrix(y_test,predictR)\n",
    "print('Confusion Matrix result of Logistic Regression is:\\n',cm1)\n",
    "print(\"\")\n",
    "sensitivity1 = cm1[0,0]/(cm1[0,0]+cm1[0,1])\n",
    "print('Sensitivity : ', sensitivity1 )\n",
    "print(\"\")\n",
    "specificity1 = cm1[1,1]/(cm1[1,0]+cm1[1,1])\n",
    "print('Specificity : ', specificity1)\n",
    "print(\"\")\n"
   ]
  },
  {
   "cell_type": "markdown",
   "metadata": {},
   "source": [
    "Decision Tree Classifier :"
   ]
  },
  {
   "cell_type": "code",
   "execution_count": 13,
   "metadata": {},
   "outputs": [
    {
     "name": "stdout",
     "output_type": "stream",
     "text": [
      "\n",
      "Classification report of Decision Tree Classifier Results:\n",
      "\n",
      "              precision    recall  f1-score   support\n",
      "\n",
      "           0       0.99      0.99      0.99     14670\n",
      "           1       0.68      0.70      0.69       330\n",
      "\n",
      "    accuracy                           0.99     15000\n",
      "   macro avg       0.83      0.85      0.84     15000\n",
      "weighted avg       0.99      0.99      0.99     15000\n",
      "\n",
      "Accuracy result of Decision Tree Classifier is 98.60666666666667\n",
      "\n",
      "Confusion Matrix result of Decision Tree Classifier is:\n",
      " [[14559   111]\n",
      " [   98   232]]\n",
      "\n",
      "Sensitivity :  0.9924335378323108\n",
      "\n",
      "Specificity :  0.703030303030303\n"
     ]
    }
   ],
   "source": [
    "from sklearn.tree import DecisionTreeClassifier\n",
    "dtree = DecisionTreeClassifier()\n",
    "\n",
    "dtree.fit(X_train, y_train)\n",
    "\n",
    "predictDT = dtree.predict(X_test)\n",
    "\n",
    "print(\"\")\n",
    "print('Classification report of Decision Tree Classifier Results:')\n",
    "print(\"\")\n",
    "\n",
    "print(classification_report(y_test,predictDT))\n",
    "x = (accuracy_score(y_test,predictDT)*100)\n",
    "\n",
    "print('Accuracy result of Decision Tree Classifier is', x)\n",
    "print(\"\")\n",
    "cm2=confusion_matrix(y_test,predictDT)\n",
    "print('Confusion Matrix result of Decision Tree Classifier is:\\n', confusion_matrix(y_test,predictDT))\n",
    "print(\"\")\n",
    "\n",
    "sensitivity1 = cm2[0,0]/(cm2[0,0]+cm2[0,1])\n",
    "print('Sensitivity : ', sensitivity1 )\n",
    "print(\"\")\n",
    "specificity1 = cm2[1,1]/(cm2[1,0]+cm2[1,1])\n",
    "print('Specificity : ', specificity1)"
   ]
  },
  {
   "cell_type": "markdown",
   "metadata": {},
   "source": [
    "Random Forest:"
   ]
  },
  {
   "cell_type": "code",
   "execution_count": 14,
   "metadata": {},
   "outputs": [
    {
     "name": "stdout",
     "output_type": "stream",
     "text": [
      "\n",
      "Classification report of Random Forest Results:\n",
      "\n",
      "              precision    recall  f1-score   support\n",
      "\n",
      "           0       0.99      0.99      0.99     14670\n",
      "           1       0.68      0.71      0.69       330\n",
      "\n",
      "    accuracy                           0.99     15000\n",
      "   macro avg       0.84      0.85      0.84     15000\n",
      "weighted avg       0.99      0.99      0.99     15000\n",
      "\n",
      "Accuracy result of Random Forest is: 98.62666666666667\n",
      "\n",
      "Confusion Matrix result of Random Forest is:\n",
      " [[14561   109]\n",
      " [   97   233]]\n",
      "\n",
      "Sensitivity :  0.9925698704839809\n",
      "\n",
      "Specificity :  0.706060606060606\n",
      "\n"
     ]
    }
   ],
   "source": [
    "from sklearn.ensemble import RandomForestClassifier\n",
    "rfc = RandomForestClassifier()\n",
    "\n",
    "rfc.fit(X_train,y_train)\n",
    "\n",
    "predictR = rfc.predict(X_test)\n",
    "\n",
    "print(\"\")\n",
    "print('Classification report of Random Forest Results:')\n",
    "print(\"\")\n",
    "\n",
    "print(classification_report(y_test,predictR))\n",
    "x = (accuracy_score(y_test,predictR)*100)\n",
    "\n",
    "print('Accuracy result of Random Forest is:', x)\n",
    "print(\"\")\n",
    "cm1=confusion_matrix(y_test,predictR)\n",
    "print('Confusion Matrix result of Random Forest is:\\n',cm1)\n",
    "print(\"\")\n",
    "sensitivity1 = cm1[0,0]/(cm1[0,0]+cm1[0,1])\n",
    "print('Sensitivity : ', sensitivity1 )\n",
    "print(\"\")\n",
    "specificity1 = cm1[1,1]/(cm1[1,0]+cm1[1,1])\n",
    "print('Specificity : ', specificity1)\n",
    "print(\"\")\n"
   ]
  },
  {
   "cell_type": "markdown",
   "metadata": {},
   "source": [
    "Support Vector Classifier:"
   ]
  },
  {
   "cell_type": "code",
   "execution_count": 15,
   "metadata": {},
   "outputs": [
    {
     "name": "stdout",
     "output_type": "stream",
     "text": [
      "\n",
      "Classification report of Support Vector Classifier Results:\n",
      "\n",
      "              precision    recall  f1-score   support\n",
      "\n",
      "           0       0.98      1.00      0.99     14670\n",
      "           1       0.25      0.00      0.01       330\n",
      "\n",
      "    accuracy                           0.98     15000\n",
      "   macro avg       0.61      0.50      0.50     15000\n",
      "weighted avg       0.96      0.98      0.97     15000\n",
      "\n",
      "Accuracy result of Support Vector Classifier is 97.78666666666666\n",
      "\n",
      "Confusion Matrix result of Support Vector Classifier is:\n",
      " [[14667     3]\n",
      " [  329     1]]\n",
      "\n",
      "Sensitivity :  0.9997955010224949\n",
      "\n",
      "Specificity :  0.0030303030303030303\n"
     ]
    }
   ],
   "source": [
    "from sklearn.svm import SVC\n",
    "sv = SVC()\n",
    "\n",
    "sv.fit(X_train, y_train)\n",
    "\n",
    "predictSVC = sv.predict(X_test)\n",
    "\n",
    "print(\"\")\n",
    "print('Classification report of Support Vector Classifier Results:')\n",
    "print(\"\")\n",
    "\n",
    "print(classification_report(y_test,predictSVC))\n",
    "x = (accuracy_score(y_test,predictSVC)*100)\n",
    "\n",
    "print('Accuracy result of Support Vector Classifier is', x)\n",
    "print(\"\")\n",
    "cm4=confusion_matrix(y_test,predictSVC)\n",
    "print('Confusion Matrix result of Support Vector Classifier is:\\n', confusion_matrix(y_test,predictSVC))\n",
    "print(\"\")\n",
    "\n",
    "sensitivity1 = cm4[0,0]/(cm4[0,0]+cm4[0,1])\n",
    "print('Sensitivity : ', sensitivity1 )\n",
    "print(\"\")\n",
    "specificity1 = cm4[1,1]/(cm4[1,0]+cm4[1,1])\n",
    "print('Specificity : ', specificity1)"
   ]
  },
  {
   "cell_type": "markdown",
   "metadata": {},
   "source": [
    "Naive Bayes:"
   ]
  },
  {
   "cell_type": "code",
   "execution_count": 16,
   "metadata": {},
   "outputs": [
    {
     "name": "stdout",
     "output_type": "stream",
     "text": [
      "\n",
      "Classification report of Naive Bayes Results:\n",
      "\n",
      "              precision    recall  f1-score   support\n",
      "\n",
      "           0       1.00      0.98      0.99     14670\n",
      "           1       0.47      0.97      0.64       330\n",
      "\n",
      "    accuracy                           0.98     15000\n",
      "   macro avg       0.74      0.97      0.81     15000\n",
      "weighted avg       0.99      0.98      0.98     15000\n",
      "\n",
      "Accuracy result of Naive Bayes is: 97.55333333333334\n",
      "\n",
      "Confusion Matrix result of Naive Bayes is:\n",
      " [[14312   358]\n",
      " [    9   321]]\n",
      "\n",
      "Sensitivity :  0.9755964553510565\n",
      "\n",
      "Specificity :  0.9727272727272728\n",
      "\n"
     ]
    }
   ],
   "source": [
    "from sklearn.naive_bayes import GaussianNB\n",
    "gnb = GaussianNB()\n",
    "\n",
    "gnb.fit(X_train,y_train)\n",
    "\n",
    "predictR = gnb.predict(X_test)\n",
    "\n",
    "print(\"\")\n",
    "print('Classification report of Naive Bayes Results:')\n",
    "print(\"\")\n",
    "\n",
    "print(classification_report(y_test,predictR))\n",
    "x = (accuracy_score(y_test,predictR)*100)\n",
    "\n",
    "print('Accuracy result of Naive Bayes is:', x)\n",
    "print(\"\")\n",
    "cm1=confusion_matrix(y_test,predictR)\n",
    "print('Confusion Matrix result of Naive Bayes is:\\n',cm1)\n",
    "print(\"\")\n",
    "sensitivity1 = cm1[0,0]/(cm1[0,0]+cm1[0,1])\n",
    "print('Sensitivity : ', sensitivity1 )\n",
    "print(\"\")\n",
    "specificity1 = cm1[1,1]/(cm1[1,0]+cm1[1,1])\n",
    "print('Specificity : ', specificity1)\n",
    "print(\"\")\n"
   ]
  },
  {
   "cell_type": "markdown",
   "metadata": {},
   "source": [
    "K-Nearest Neighbor:"
   ]
  },
  {
   "cell_type": "code",
   "execution_count": 17,
   "metadata": {},
   "outputs": [
    {
     "name": "stdout",
     "output_type": "stream",
     "text": [
      "\n",
      "Classification report of K-Nearest Neighbor Results:\n",
      "\n",
      "              precision    recall  f1-score   support\n",
      "\n",
      "           0       0.99      0.99      0.99     14670\n",
      "           1       0.70      0.65      0.67       330\n",
      "\n",
      "    accuracy                           0.99     15000\n",
      "   macro avg       0.85      0.82      0.83     15000\n",
      "weighted avg       0.99      0.99      0.99     15000\n",
      "\n",
      "Accuracy result of K-Nearest Neighbor is: 98.61333333333333\n",
      "\n",
      "Confusion Matrix result of K-Nearest Neighbor is:\n",
      " [[14577    93]\n",
      " [  115   215]]\n",
      "\n",
      "Sensitivity :  0.9936605316973415\n",
      "\n",
      "Specificity :  0.6515151515151515\n",
      "\n"
     ]
    }
   ],
   "source": [
    "from sklearn.neighbors import KNeighborsClassifier\n",
    "knnc = KNeighborsClassifier()\n",
    "\n",
    "knnc.fit(X_train,y_train)\n",
    "\n",
    "predictR = knnc.predict(X_test)\n",
    "\n",
    "print(\"\")\n",
    "print('Classification report of K-Nearest Neighbor Results:')\n",
    "print(\"\")\n",
    "\n",
    "print(classification_report(y_test,predictR))\n",
    "x = (accuracy_score(y_test,predictR)*100)\n",
    "\n",
    "print('Accuracy result of K-Nearest Neighbor is:', x)\n",
    "print(\"\")\n",
    "cm2=confusion_matrix(y_test,predictR)\n",
    "print('Confusion Matrix result of K-Nearest Neighbor is:\\n',cm2)\n",
    "print(\"\")\n",
    "sensitivity1 = cm2[0,0]/(cm2[0,0]+cm2[0,1])\n",
    "print('Sensitivity : ', sensitivity1 )\n",
    "print(\"\")\n",
    "specificity1 = cm2[1,1]/(cm2[1,0]+cm2[1,1])\n",
    "print('Specificity : ', specificity1)\n",
    "print(\"\")\n"
   ]
  },
  {
   "cell_type": "markdown",
   "metadata": {},
   "source": [
    "# Highest accuracy is Logistic regression"
   ]
  },
  {
   "cell_type": "code",
   "execution_count": null,
   "metadata": {},
   "outputs": [],
   "source": []
  },
  {
   "cell_type": "code",
   "execution_count": null,
   "metadata": {},
   "outputs": [],
   "source": []
  },
  {
   "cell_type": "code",
   "execution_count": null,
   "metadata": {},
   "outputs": [],
   "source": []
  },
  {
   "cell_type": "code",
   "execution_count": null,
   "metadata": {},
   "outputs": [],
   "source": []
  },
  {
   "cell_type": "code",
   "execution_count": null,
   "metadata": {},
   "outputs": [],
   "source": []
  }
 ],
 "metadata": {
  "kernelspec": {
   "display_name": "Python 3",
   "language": "python",
   "name": "python3"
  },
  "language_info": {
   "codemirror_mode": {
    "name": "ipython",
    "version": 3
   },
   "file_extension": ".py",
   "mimetype": "text/x-python",
   "name": "python",
   "nbconvert_exporter": "python",
   "pygments_lexer": "ipython3",
   "version": "3.8.5"
  }
 },
 "nbformat": 4,
 "nbformat_minor": 2
}
